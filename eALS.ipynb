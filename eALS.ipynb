{
 "cells": [
  {
   "cell_type": "code",
   "execution_count": 1,
   "metadata": {},
   "outputs": [],
   "source": [
    "import numpy as np\n",
    "import pandas as pd\n",
    "import scipy.sparse as sparse\n",
    "from scipy.sparse.linalg import spsolve\n",
    "import random\n",
    "from sklearn import metrics\n",
    "from sklearn.preprocessing import MinMaxScaler\n",
    "from tabulate import tabulate\n",
    "import warnings\n",
    "warnings.filterwarnings('ignore')\n",
    "from IPython.core.interactiveshell import InteractiveShell\n",
    "InteractiveShell.ast_node_interactivity = \"all\"\n",
    "from implicit.als import AlternatingLeastSquares\n",
    "from implicit.nearest_neighbours import bm25_weight\n",
    "from sklearn.utils import shuffle"
   ]
  },
  {
   "cell_type": "code",
   "execution_count": 2,
   "metadata": {
    "collapsed": true
   },
   "outputs": [],
   "source": [
    "# Read the data from the vtc-cab repos\n",
    "raw_data = pd.read_csv('./activities_201802011009.csv')"
   ]
  },
  {
   "cell_type": "code",
   "execution_count": 3,
   "metadata": {},
   "outputs": [
    {
     "name": "stdout",
     "output_type": "stream",
     "text": [
      "    name accountid  userid                                    id deviceid  \\\n",
      "0  watch   7041046     NaN  99ef7d20-f289-11e7-824b-fda2ff9f7794  Android   \n",
      "1  watch   7041046     NaN  16836d10-f28a-11e7-a231-9114f613577e  Android   \n",
      "2  watch   7041046     NaN  b280e9d0-f4cf-11e7-b167-f75a20dec89d  Android   \n",
      "3  watch   7041046     NaN  6dd1cb50-f4d0-11e7-a231-9114f613577e  Android   \n",
      "4  watch   7041046     NaN  199f1e11-f4d1-11e7-824b-fda2ff9f7794  Android   \n",
      "\n",
      "                                    key  \\\n",
      "0                          LYS005228795   \n",
      "1         tapchiclbvidaibayernmunich_1p   \n",
      "2  tapchiderbyrealmadridvsbarcelona_lep   \n",
      "3              aquayoga4tuthechienbinhp   \n",
      "4                          LYS013573731   \n",
      "\n",
      "                                            metadata               tstamp  \\\n",
      "0  [Synopsis=Từ 04/04/2017, Title=ON FOOTBALL, bo...  2018-01-06 09:30:46   \n",
      "1  [Synopsis=, Title=Tạp chí CLB vĩ đại - Bayern ...  2018-01-06 09:34:15   \n",
      "2  [Synopsis=, Title=Tạp chí Derby - Real Madrid ...  2018-01-09 06:57:34   \n",
      "3  [Synopsis=Khoe va Dep, Title=Aqua Yoga 4 Tư th...  2018-01-09 07:02:49   \n",
      "4  [Synopsis=Nhịp đập 360° thể thao, Title=Nhịp đ...  2018-01-09 07:07:37   \n",
      "\n",
      "      value  \n",
      "0  watching  \n",
      "1  watching  \n",
      "2  watching  \n",
      "3  watching  \n",
      "4  watching  \n",
      "(173364, 9)\n"
     ]
    }
   ],
   "source": [
    "# Preview the ratings dataframe\n",
    "print(raw_data.head())\n",
    "print(raw_data.shape)"
   ]
  },
  {
   "cell_type": "code",
   "execution_count": 4,
   "metadata": {
    "collapsed": true
   },
   "outputs": [],
   "source": [
    "raw_data['accountid'].replace('', np.nan, inplace=True)\n",
    "raw_data['key'].replace('', np.nan, inplace=True)\n",
    "raw_data.dropna(subset=['accountid'], inplace=True)\n",
    "raw_data.dropna(subset=['key'], inplace=True)"
   ]
  },
  {
   "cell_type": "code",
   "execution_count": 5,
   "metadata": {},
   "outputs": [
    {
     "name": "stdout",
     "output_type": "stream",
     "text": [
      "Number of customers: 32729\n",
      "Number of items bought: 13575\n"
     ]
    }
   ],
   "source": [
    "# Let's see how many items and customers there are in the dataset\n",
    "num_cust = len(raw_data.accountid.unique())\n",
    "num_items = len(raw_data.key.unique())\n",
    "print('Number of customers: ' + str(num_cust))\n",
    "print('Number of items bought: ' + str(num_items))"
   ]
  },
  {
   "cell_type": "code",
   "execution_count": 6,
   "metadata": {
    "collapsed": true
   },
   "outputs": [],
   "source": [
    "# add one quantity column to dataframe, for simple we just add 1 to everywhere\n",
    "raw_data['quantity'] = 1"
   ]
  },
  {
   "cell_type": "code",
   "execution_count": 7,
   "metadata": {
    "collapsed": true
   },
   "outputs": [],
   "source": [
    "#clean up the raw data \n",
    "retail_data = raw_data.loc[pd.isnull(raw_data.accountid) == False]"
   ]
  },
  {
   "cell_type": "code",
   "execution_count": 8,
   "metadata": {},
   "outputs": [],
   "source": [
    "# Let's group purchase quantities by Stock Code and CustomerID\n",
    "retail_data = retail_data[['key', 'quantity', 'accountid']]\n",
    "retail_grouped = retail_data.groupby(['accountid', 'key']).sum().reset_index()"
   ]
  },
  {
   "cell_type": "code",
   "execution_count": 9,
   "metadata": {},
   "outputs": [
    {
     "name": "stdout",
     "output_type": "stream",
     "text": [
      "\n",
      "Final Matrix of grouped purchases\n",
      "        accountid                            key  quantity\n",
      "0  5038088.CD-TV1             gioithieuonfuturem         1\n",
      "1  5038088.CD-TV1    holyflameofthemartialworldm         2\n",
      "2  5038088.CD-TV1             move_dancecover4km         1\n",
      "3  5038088.CD-TV1           swalla_dancecover4km         1\n",
      "4  5038088.CD-TV1  transformer_thelastknight_4km         1\n"
     ]
    }
   ],
   "source": [
    "# If the quantity sum is 0, replace with 1 to indicate that there was a purchase of that item atleast\n",
    "retail_grouped.quantity.loc[retail_grouped.quantity == 0] = 1\n",
    "\n",
    "# Filter out all negative quantities so that we can focus the recommendation of items that the customer purchased and liked\n",
    "retail_grouped_final = retail_grouped[retail_grouped.quantity > 0]\n",
    "print ('\\nFinal Matrix of grouped purchases')\n",
    "print (retail_grouped_final.head())"
   ]
  },
  {
   "cell_type": "code",
   "execution_count": 10,
   "metadata": {
    "collapsed": true
   },
   "outputs": [],
   "source": [
    "# Get list of unique customers\n",
    "cust_list = list(np.sort(retail_grouped_final.accountid.unique()))\n",
    "# Get list of unique items bought\n",
    "item_list = list(np.sort(retail_grouped_final.key.unique()))\n",
    "# Get list of all the purchase quantities\n",
    "quantity_list = list(retail_grouped_final.quantity)\n",
    "\n",
    "# Building the matrix....\n",
    "mat_rows = retail_grouped_final.key.astype('category', categories = item_list).cat.codes\n",
    "mat_cols = retail_grouped_final.accountid.astype('category', categories = cust_list).cat.codes\n",
    "items_users = sparse.csr_matrix((quantity_list, (mat_rows, mat_cols)), shape = (len(item_list), len(cust_list)))"
   ]
  },
  {
   "cell_type": "code",
   "execution_count": 11,
   "metadata": {},
   "outputs": [
    {
     "name": "stdout",
     "output_type": "stream",
     "text": [
      "Shape of sparse matrix (13575, 32729)\n"
     ]
    },
    {
     "data": {
      "text/plain": [
       "<13575x32729 sparse matrix of type '<class 'numpy.int64'>'\n",
       "\twith 116307 stored elements in Compressed Sparse Row format>"
      ]
     },
     "execution_count": 11,
     "metadata": {},
     "output_type": "execute_result"
    }
   ],
   "source": [
    "print (\"Shape of sparse matrix \" + str(items_users.shape))\n",
    "items_users"
   ]
  },
  {
   "cell_type": "code",
   "execution_count": 12,
   "metadata": {},
   "outputs": [
    {
     "name": "stdout",
     "output_type": "stream",
     "text": [
      "Sparsity Percentage in Ratings Matrix is 99.97\n"
     ]
    }
   ],
   "source": [
    "# Let's check how sparse the matrix is \n",
    "# Get all possible combination of purchases\n",
    "items_users_size = items_users.shape[0]*items_users.shape[1]\n",
    "# Get actual number of item purchased\n",
    "num_purchases = len(items_users.nonzero()[0])\n",
    "sparse_per = 100*(1 - (num_purchases/items_users_size))\n",
    "print ('Sparsity Percentage in Ratings Matrix is ' + str(round(sparse_per,2)))"
   ]
  },
  {
   "cell_type": "code",
   "execution_count": 13,
   "metadata": {},
   "outputs": [
    {
     "data": {
      "text/plain": [
       "'\\nSplit into test and train by masking some values of the dataset in the training set with 0s indicating the customer did not purchase.\\nThen run the model on the complete matrix and see if the predicted values are equal to the original values before masking\\n\\n'"
      ]
     },
     "execution_count": 13,
     "metadata": {},
     "output_type": "execute_result"
    }
   ],
   "source": [
    "'''\n",
    "Split into test and train by masking some values of the dataset in the training set with 0s indicating the customer did not purchase.\n",
    "Then run the model on the complete matrix and see if the predicted values are equal to the original values before masking\n",
    "\n",
    "'''\n",
    "\n",
    "def create_train(matrix_data, mask_pct = 0.2):\n",
    "    '''\n",
    "    This function will take in the complete customer-item matrix and \"mask\" a percentage of the original purchases where a\n",
    "    user-item interaction has taken place for use as a test set. The test set will contain all of the original purchases, \n",
    "    while the training set replaces the specified percentage of them with a zero in the original purchases matrix. \n",
    "    \n",
    "    args:\n",
    "    matrix_data - the original purchases matrix from which you want to generate a train/test set. Takes sparse csr_matrix form.\n",
    "    \n",
    "    mask_pct - The percentage of customer-item interactions where an interaction took place that you want to mask in the \n",
    "    training set for later comparison to the test set. \n",
    "    \n",
    "    returns:\n",
    "    \n",
    "    training_set - The altered version of the original data with a certain percentage of the customer-item pairs \n",
    "    that originally had interaction set back to zero.\n",
    "    \n",
    "    test_set - A copy of the original purchase matrix converted to binary - 1 indicates purchase and 0 indicates no purchase.\n",
    "    \n",
    "    user_inds - From the randomly selected customer-item indices, which customer rows were altered in the training data.\n",
    "    '''\n",
    "    # Prepare the test set\n",
    "    test_mat = matrix_data.copy()\n",
    "    test_mat[test_mat != 0] = 1\n",
    "    # Prepare the training set\n",
    "    training_mat = matrix_data.copy()\n",
    "    # Get indices of purchases in the matrix\n",
    "    purchase_idx = training_mat.nonzero()\n",
    "    # Get corresponding user-item indices of the purchase\n",
    "    purchase_pairs = list(zip(purchase_idx[0], purchase_idx[1]))\n",
    "    random.seed(0)\n",
    "    # Number of samples to mask\n",
    "    num_samples = int(np.ceil(mask_pct*len(purchase_pairs)))\n",
    "    # Randomly sample from the purchases\n",
    "    samples = random.sample(purchase_pairs, num_samples)\n",
    "    item_idx = [index[0] for index in samples]\n",
    "    customer_idx = [index[1] for index in samples]\n",
    "    # Mask the items in the above indentified indices as 0\n",
    "    training_mat[item_idx, customer_idx] = 0 \n",
    "    # To save space, eliminate the zeros in the sparse matrix\n",
    "    training_mat.eliminate_zeros()\n",
    "    return training_mat, test_mat, list(set(customer_idx))"
   ]
  },
  {
   "cell_type": "code",
   "execution_count": 14,
   "metadata": {},
   "outputs": [
    {
     "data": {
      "text/plain": [
       "<13575x32729 sparse matrix of type '<class 'numpy.int64'>'\n",
       "\twith 93045 stored elements in Compressed Sparse Row format>"
      ]
     },
     "execution_count": 14,
     "metadata": {},
     "output_type": "execute_result"
    },
    {
     "data": {
      "text/plain": [
       "<13575x32729 sparse matrix of type '<class 'numpy.int64'>'\n",
       "\twith 116307 stored elements in Compressed Sparse Row format>"
      ]
     },
     "execution_count": 14,
     "metadata": {},
     "output_type": "execute_result"
    }
   ],
   "source": [
    "# Call the create_train function\n",
    "train_mat, test_mat, customer_idx = create_train(items_users)\n",
    "train_mat\n",
    "test_mat"
   ]
  },
  {
   "cell_type": "code",
   "execution_count": 15,
   "metadata": {},
   "outputs": [
    {
     "name": "stderr",
     "output_type": "stream",
     "text": [
      "WARNING:root:OpenBLAS detected. Its highly recommend to set the environment variable 'export OPENBLAS_NUM_THREADS=1' to disable its internal multithreading\n"
     ]
    }
   ],
   "source": [
    "model = AlternatingLeastSquares(factors=40,iterations=30)"
   ]
  },
  {
   "cell_type": "code",
   "execution_count": 16,
   "metadata": {
    "collapsed": true
   },
   "outputs": [],
   "source": [
    "#train_mat = bm25_weight(train_mat,  B=0.9) * 5"
   ]
  },
  {
   "cell_type": "code",
   "execution_count": 17,
   "metadata": {
    "collapsed": true
   },
   "outputs": [],
   "source": [
    "model.fit(train_mat)"
   ]
  },
  {
   "cell_type": "code",
   "execution_count": 18,
   "metadata": {
    "collapsed": true
   },
   "outputs": [],
   "source": [
    "def calc_mean_auc(training_mat, altered_custs, predictions, test_mat):\n",
    "    '''\n",
    "    args:\n",
    "    training_mat - The orginial training_mat where we masked some customers' purchases to zero. \n",
    "    \n",
    "    altered_custs - The indices of the customers where atleast one customer/item pair was altered to 0.\n",
    "    \n",
    "    predictions - The matrix of predicted purchases. These should be stored in a list, with customer vectors as item zero and item vectors as item one.\n",
    "    \n",
    "    test_mat - The test matrix constructed from the create_train function\n",
    "    \n",
    "    returns:\n",
    "    \n",
    "    The mean AUC of the test set only on customer-item iteractions that were originally zero to test ranking ability in addition to most popular items as a benchmark.\n",
    "    '''\n",
    "    \n",
    "    store_auc = []\n",
    "    popularity_auc = []\n",
    "    # Get sum of item interactions to get most popular items\n",
    "    popular_items = np.array(test_mat.sum(axis =1)).reshape(-1)\n",
    "    item_vecs = predictions[1]\n",
    "    item_vecs = item_vecs.T\n",
    "    for cust in altered_custs:\n",
    "        # Get the training matrix row where the interactions were zero\n",
    "        training_col = training_mat[:, cust].toarray().reshape(-1)\n",
    "        zero_inds = np.where(training_col == 0)\n",
    "        # Get the predicted values based on our customer/item vectors\n",
    "        cust_vec = predictions[0][cust,:]\n",
    "        pred = cust_vec.dot(item_vecs).toarray()[0, zero_inds].reshape(-1)\n",
    "        # Get only items that were originally zero\n",
    "        actual = test_mat[:,cust].T.toarray()[0, zero_inds].reshape(-1)\n",
    "        popular = popular_items[zero_inds]\n",
    "        # Calculate AUC for predicted vs actual\n",
    "        fpr, tpr, thresholds = metrics.roc_curve(actual, pred)\n",
    "        store_auc.append(metrics.auc(fpr, tpr))\n",
    "        # Calculate AUC for popular vs actual\n",
    "        fpr_pop, tpr_pop, thresholds_pop = metrics.roc_curve(actual, popular)\n",
    "        popularity_auc.append(metrics.auc(fpr_pop, tpr_pop))\n",
    "        \n",
    "    return float('%.3f'%np.mean(store_auc)), float('%.3f'%np.mean(popularity_auc))"
   ]
  },
  {
   "cell_type": "code",
   "execution_count": 19,
   "metadata": {},
   "outputs": [
    {
     "data": {
      "text/plain": [
       "(0.604, 0.923)"
      ]
     },
     "execution_count": 19,
     "metadata": {},
     "output_type": "execute_result"
    }
   ],
   "source": [
    "calc_mean_auc(train_mat, customer_idx, [sparse.csr_matrix(model.user_factors), sparse.csr_matrix(model.item_factors)], test_mat)"
   ]
  },
  {
   "cell_type": "code",
   "execution_count": 20,
   "metadata": {
    "collapsed": true
   },
   "outputs": [],
   "source": [
    "# Sampling the Recommendations provide using the item:desc dictionary we had created earlier\n",
    "customers_arr = np.array(cust_list)\n",
    "items_arr = np.array(item_list)"
   ]
  },
  {
   "cell_type": "code",
   "execution_count": 21,
   "metadata": {
    "collapsed": true
   },
   "outputs": [],
   "source": [
    "def get_items_purchased(customer_id, train_mat, customers_arr, items_arr):\n",
    "    '''\n",
    "    Returns the items purchased by a specific customer in the training set\n",
    "    \n",
    "    args:\n",
    "    customer_id - ID of a customer whose made atleast one purchase\n",
    "    train_mat - The initial purchase matrix that we masked a percentage of\n",
    "    customers_arr - Array of customers in the purchase matrix\n",
    "    items_arr - Array of items in the purchase matrix\n",
    "    \n",
    "    returns:\n",
    "    A dictionary of stock_cd and description of those items already purchased\n",
    "    '''\n",
    "    # Get the index of the row where that customer ID is present\n",
    "    cust_ind = np.where(customers_arr == customer_id)[0][0]\n",
    "    # Get all the indices of the purchases made\n",
    "    purchase_ind = train_mat[:,cust_ind].nonzero()[0]\n",
    "    # Retrieve the product codes for the purchase indices\n",
    "    stock = items_arr[purchase_ind]\n",
    "    # Look up the description for the stock code from itemDescDict\n",
    "    #subdict = {x: item_lookup[x] for x in stock_codes if x in item_lookup}\n",
    "    return stock"
   ]
  },
  {
   "cell_type": "code",
   "execution_count": 22,
   "metadata": {},
   "outputs": [
    {
     "name": "stdout",
     "output_type": "stream",
     "text": [
      "Customer ID:  6950916\n",
      "['wheninromep']\n",
      "--------------------------------------------------\n",
      "Customer ID:  6955129\n",
      "['thachthucdanhhaimua3tap17gala3p']\n",
      "--------------------------------------------------\n",
      "Customer ID:  6935183\n",
      "['mrscop1p']\n",
      "--------------------------------------------------\n",
      "Customer ID:  6658683\n",
      "['youcamefromthestars1p']\n",
      "--------------------------------------------------\n",
      "Customer ID:  6733024\n",
      "[]\n",
      "--------------------------------------------------\n",
      "Customer ID:  6778568\n",
      "['DP27_Congaicuacachuyenthoaip' 'LYS002171878']\n",
      "--------------------------------------------------\n",
      "Customer ID:  6739797\n",
      "['LYS011255246' 'vucthamvohinhtap21p']\n",
      "--------------------------------------------------\n",
      "Customer ID:  6280749\n",
      "['LYS002161371' 'dienvienlanphuongp']\n",
      "--------------------------------------------------\n",
      "Customer ID:  7067626\n",
      "['LYS002171878' 'LYS003482908']\n",
      "--------------------------------------------------\n"
     ]
    }
   ],
   "source": [
    "# Let's look at what the first 5 customers purchased\n",
    "for cust in shuffle(customers_arr)[:9]:\n",
    "    print('Customer ID: ', cust)\n",
    "    print(get_items_purchased(cust, train_mat, customers_arr, items_arr))\n",
    "    print('--------------------------------------------------')"
   ]
  },
  {
   "cell_type": "code",
   "execution_count": 23,
   "metadata": {
    "collapsed": true
   },
   "outputs": [],
   "source": [
    "def get_rec_item(model,customer_id,customers_arr,items_arr,items_users):\n",
    "    cust_ind = np.where(customers_arr == customer_id)[0][0]\n",
    "    recs =  model.recommend(cust_ind,items_users.T)\n",
    "    rec_list = []\n",
    "    for rec in recs:\n",
    "        rec_list.append(items_arr[rec[0]])\n",
    "    return rec_list"
   ]
  },
  {
   "cell_type": "code",
   "execution_count": 24,
   "metadata": {},
   "outputs": [
    {
     "name": "stdout",
     "output_type": "stream",
     "text": [
      "Customer ID:  6804220\n",
      "['LYS002171878', 'LYS002161371', 'tapchiderbytottenhamvsarsenalp', 'flyingdaggerthep', 'DP23_Anvap', 'TCdvliverpoolvsmanchesterunitedp', 'tapchiclbvidaibenfica_1p', 'tapchiclbvidaibayernmunich_1p', 'madeaswitnessprotectionp', 'mininijas11p']\n",
      "--------------------------------------------------\n",
      "Customer ID:  6934541\n",
      "['LYS003482908', 'caccauthudamdanggioinoitrop', 'hlvnguyenhuuthangp', 'tapchiderbybrazilvsargentinap', 'cacclbcotenkylap', 'buidoanquanghuyp', 'hanamutdvsliverpoolhanoifcp', 'caulongcanmothocvienp', '6flingdragons13p', 'LYS011764101']\n",
      "--------------------------------------------------\n",
      "Customer ID:  7013940\n",
      "['LYS002161371', '5vungchienthuatp', 'tapchiderbytottenhamvsarsenalp', 'gooddoctor1p', 'TCdvliverpoolvsmanchesterunitedp', 'thelastsongp', 'hellostrangerp', 'tapchiclbvidaibayernmunich_1p', 'DP22_CactranchungketChampionsLeaguep', 'flyingdaggerthep']\n",
      "--------------------------------------------------\n",
      "Customer ID:  7029266\n",
      "['LYS002171878', 'spiritstallionofthecimarronp', 'LYS003582539', 'thegooddinosaurp', 'marvelstheavengersp', 'shotgunlovep', 'capturetheflagp', 'frightnightp', 'dancecampp', 'ironmanp']\n",
      "--------------------------------------------------\n",
      "Customer ID:  7079529\n",
      "['LYS013410880', 'LYS013408026', 'LYS013407034', 'LYS013408058', 'LYS013410884', 'LYS013407038', 'LYS013400021', 'LYS013407022', 'LYS013404001', 'LYS013400041']\n",
      "--------------------------------------------------\n",
      "Customer ID:  6790513\n",
      "['LYS013410880', 'LYS013408026', 'LYS013407034', 'LYS013408058', 'LYS013410884', 'LYS013407038', 'LYS013400021', 'LYS013407022', 'LYS013404001', 'LYS013400041']\n",
      "--------------------------------------------------\n",
      "Customer ID:  6975030\n",
      "['thegooddinosaurp', 'spiritstallionofthecimarronp', 'marvelstheavengersp', 'invincibleshaolinp', 'tapchidanhthucristianoronaldop', 'resistance_khangcup', 'ironmanp', 'dancecampp', 'ironbodyguardp', 'ihavealover1p']\n",
      "--------------------------------------------------\n",
      "Customer ID:  6876897\n",
      "['ThoiDaiHoangKimP4_1p', 'sliver_latcatp', 'nguochieunuocmattap16p', 'ghetthiyeuthoitap18p', 'dancecampp', 'marvelstheavengersp', 'highnoonp', 'deathwarrantp', 'frightnightp', 'adgeniusleetaebaek1p']\n",
      "--------------------------------------------------\n",
      "Customer ID:  6965059\n",
      "['LYS005294306', 'LYS003482908', 'LYS005228795', 'LYS002161371', 'ThoiDaiHoangKimP4_1p', 'sliver_latcatp', 'ThoiDaiHoangKimP3_1p', 'wheninromep', 'casanovap', 'DP23_Anvap']\n",
      "--------------------------------------------------\n"
     ]
    }
   ],
   "source": [
    "# Let's look at what was recommended for the 3 customers\n",
    "for cust in shuffle(customers_arr)[:9]:\n",
    "    print('Customer ID: ', cust)\n",
    "    print(get_rec_item(model, cust, customers_arr, items_arr,items_users))\n",
    "    print('--------------------------------------------------')"
   ]
  },
  {
   "cell_type": "code",
   "execution_count": 25,
   "metadata": {},
   "outputs": [
    {
     "data": {
      "text/plain": [
       "\"\\nLet's compare the items bought vs the items recommended by customer in a dataframe so \\nthat we can see more clearly how the recommendation engine did\\n\""
      ]
     },
     "execution_count": 25,
     "metadata": {},
     "output_type": "execute_result"
    }
   ],
   "source": [
    "'''\n",
    "Let's compare the items bought vs the items recommended by customer in a dataframe so \n",
    "that we can see more clearly how the recommendation engine did\n",
    "'''\n",
    "\n",
    "def compare_purchase_rec(accountid, key, rec_list):\n",
    "    '''\n",
    "    This function returns a dataframe with the 10 purchased items and top 10 recommended items for each customer\n",
    "    \n",
    "    args:\n",
    "    customer_id - The customer ID in the purchase matrix\n",
    "    purchase_dict - The output of the get_items_purchased function which is a dictionary of stock_cd:description of items purchased\n",
    "    rec_list - The output of the get_rec_item function which is a list of the top n stock_cd and description pairs\n",
    "    \n",
    "    returns:\n",
    "    A dataframe with all purchased items and top n recommended items by customer\n",
    "    '''\n",
    "    # Create dataframes of one column each - CustomerID, Purchased items, Recommended Items\n",
    "    cust_df = pd.DataFrame({'CustID': [accountid]})\n",
    "    purchase_df = pd.DataFrame({'PurchasedItem': list(key)})\n",
    "    rec_df = pd.DataFrame({'RecommendedItem': [pair for pair in rec_list]})\n",
    "\n",
    "    # Column wise concatenate the dataframes\n",
    "    final_df = pd.concat([cust_df, purchase_df, rec_df], ignore_index=True, axis=1)\n",
    "    # Format the final dataframe\n",
    "    final_df.columns = ['CustID', 'PurchasedItem', 'RecommendedItem']\n",
    "    final_df['PurchasedItem'] = final_df.PurchasedItem.astype(str)\n",
    "    final_df['RecommendedItem'] = final_df.RecommendedItem.astype(str)\n",
    "    final_df = final_df.fillna('')\n",
    "    final_df = final_df.replace('nan', '', regex=True)\n",
    "    return final_df"
   ]
  },
  {
   "cell_type": "code",
   "execution_count": 26,
   "metadata": {},
   "outputs": [
    {
     "name": "stdout",
     "output_type": "stream",
     "text": [
      "    CustID    PurchasedItem    RecommendedItem\n",
      "--  --------  ---------------  ---------------------------------\n",
      " 0  6874930   LYS002171878     LYS003482908\n",
      " 1            LYS003482908     LYS002171878\n",
      " 2            LYS005294306     LYS005294306\n",
      " 3                             gapnhaucuoinam2017p\n",
      " 4                             tapchiderbytottenhamvsarsenalp\n",
      " 5                             remember1p\n",
      " 6                             tapchiderbybrazilvsargentinap\n",
      " 7                             DP26_KhagcuacaccauthutrongCasinop\n",
      " 8                             theitalianjobp\n",
      " 9                             golfernuquyenrup\n",
      "    CustID    PurchasedItem                        RecommendedItem\n",
      "--  --------  -----------------------------------  -----------------------\n",
      " 0  6980929   LYS013063491                         SuQuyenRuChetNguoi1p\n",
      " 1            nhungdieukithutaicacgiaivdqgchauaup  nhungduongcongnongbongp\n",
      " 2            thienduongamthucmua2tap9p            kungfuinstructorthep\n",
      " 3                                                 lamdepso1p\n",
      " 4                                                 360crossoverp\n",
      " 5                                                 LYS003582539\n",
      " 6                                                 LYS005228795\n",
      " 7                                                 nhungchuchocuuho49p\n",
      " 8                                                 mininijas1p\n",
      " 9                                                 LYS005271648\n",
      "    CustID    PurchasedItem     RecommendedItem\n",
      "--  --------  ----------------  --------------------\n",
      " 0  6944890   ladyassassinthep  mrscop1p\n",
      " 1            mrscop1p          ladyassassinthep\n",
      " 2                              kungfuinstructorthep\n",
      " 3                              killerconstablep\n",
      " 4                              6flingdragons1p\n",
      " 5                              ironbodyguardp\n",
      " 6                              Selldon39p\n",
      " 7                              howtopickgirlsupp\n",
      " 8                              wildromance1p\n",
      " 9                              haveswordwilltravelp\n",
      "    CustID    PurchasedItem         RecommendedItem\n",
      "--  --------  --------------------  ----------------------\n",
      " 0  6239488   SuQuyenRuChetNguoi1p  SuQuyenRuChetNguoi1p\n",
      " 1            ghetthiyeuthoitap18p  danongsau5pm40p\n",
      " 2                                  doctorstranger1p\n",
      " 3                                  ThoiDaiHoangKimP3_1p\n",
      " 4                                  nguochieunuocmattap16p\n",
      " 5                                  ghetthiyeuthoitap18p\n",
      " 6                                  agirlwhocanseesmell1p\n",
      " 7                                  lamdepso1p\n",
      " 8                                  adgeniusleetaebaek1p\n",
      " 9                                  6flingdragons1p\n",
      "    CustID    PurchasedItem     RecommendedItem\n",
      "--  --------  ----------------  -----------------------------------\n",
      " 0  7073221   tap148matnakybip  phantichtrandaugiuahaglflcthanhhoap\n",
      " 1                              360crossoverp\n",
      " 2                              shotgunlovep\n",
      " 3                              bachngocduong1p\n",
      " 4                              casibichphuongp\n",
      " 5                              KingsmanTheSecretServicep\n",
      " 6                              selenagomezcongkhaitinhyeup\n",
      " 7                              LYS008644232\n",
      " 8                              thefamilyiscoming1p\n",
      " 9                              gioithieuonfuturep\n",
      "    CustID    PurchasedItem        RecommendedItem\n",
      "--  --------  -------------------  -----------------------\n",
      " 0  7046762   drdimensionpants19p  iris1p\n",
      " 1            mininijas1p          LYS003582539\n",
      " 2                                 nhungchuchocuuho49p\n",
      " 3                                 nhungduongcongnongbongp\n",
      " 4                                 mininijas1p\n",
      " 5                                 nhungchuchocuuho47p\n",
      " 6                                 ponybenho6tap25p\n",
      " 7                                 mininijas11p\n",
      " 8                                 nhungchuchocuuho46p\n",
      " 9                                 drdimensionpants24p\n",
      "    CustID    PurchasedItem         RecommendedItem\n",
      "--  --------  --------------------  ----------------------\n",
      " 0  6937199   LYS005271648          LYS005271648\n",
      " 1            ghetthiyeuthoitap19p  dancecampp\n",
      " 2                                  LYS003582539\n",
      " 3                                  bachngocduong1p\n",
      " 4                                  nguochieunuocmattap16p\n",
      " 5                                  ghetthiyeuthoitap18p\n",
      " 6                                  hotface28p\n",
      " 7                                  ThoiDaiHoangKimP3_1p\n",
      " 8                                  thisisfootball4kp\n",
      " 9                                  3daystokillp\n",
      "    CustID       PurchasedItem    RecommendedItem\n",
      "--  -----------  ---------------  -----------------\n",
      " 0  6215125-TV3                   LYS013410880\n",
      " 1                                LYS013408026\n",
      " 2                                LYS013407034\n",
      " 3                                LYS013408058\n",
      " 4                                LYS013410884\n",
      " 5                                LYS013407038\n",
      " 6                                LYS013400021\n",
      " 7                                LYS013407022\n",
      " 8                                LYS013404001\n",
      " 9                                LYS013400041\n",
      "    CustID    PurchasedItem    RecommendedItem\n",
      "--  --------  ---------------  -------------------\n",
      " 0  6945603   Chao2017p        frightnightp\n",
      " 1            LYS011991379     iamnumberfourp\n",
      " 2            dotnhapp         sliver_latcatp\n",
      " 3            iamnumberfourp   iris1p\n",
      " 4                             resistance_khangcup\n",
      " 5                             dancecampp\n",
      " 6                             thorp\n",
      " 7                             ghostcoinsp\n",
      " 8                             LYS003582539\n",
      " 9                             nhungnuhonrucrop\n"
     ]
    }
   ],
   "source": [
    "# Let's compare the same 3 customers\n",
    "for cust in shuffle(customers_arr)[:9]:\n",
    "    print(tabulate(compare_purchase_rec(cust, \n",
    "                               get_items_purchased(cust, train_mat, customers_arr, items_arr),\n",
    "                               get_rec_item(model, cust, customers_arr, items_arr,items_users)),\n",
    "                  headers= ['CustID', 'PurchasedItem', 'RecommendedItem']))"
   ]
  }
 ],
 "metadata": {
  "kernelspec": {
   "display_name": "Python 3",
   "language": "python",
   "name": "python3"
  },
  "language_info": {
   "codemirror_mode": {
    "name": "ipython",
    "version": 3
   },
   "file_extension": ".py",
   "mimetype": "text/x-python",
   "name": "python",
   "nbconvert_exporter": "python",
   "pygments_lexer": "ipython3",
   "version": "3.6.3"
  }
 },
 "nbformat": 4,
 "nbformat_minor": 2
}
